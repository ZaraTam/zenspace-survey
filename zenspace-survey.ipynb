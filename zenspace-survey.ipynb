{
 "cells": [
  {
   "cell_type": "markdown",
   "metadata": {},
   "source": [
    "# ZenSpace survey exploratory data analysis"
   ]
  },
  {
   "cell_type": "markdown",
   "metadata": {},
   "source": [
    "## Background\n",
    "\n",
    "ZenSpace provides on-demand, soundproof workspaces around the UK.\n",
    "\n",
    "Total number of respondents = 43"
   ]
  },
  {
   "cell_type": "markdown",
   "metadata": {},
   "source": [
    "## Data analysis"
   ]
  },
  {
   "cell_type": "code",
   "execution_count": 1,
   "metadata": {
    "collapsed": true
   },
   "outputs": [],
   "source": [
    "import numpy as np\n",
    "import pandas as pd\n",
    "import matplotlib.pyplot as plt\n",
    "\n",
    "%matplotlib inline\n",
    "\n",
    "data = pd.read_excel(\"zenspace_report.xlsx\", na_values = [\"NA\"])"
   ]
  },
  {
   "cell_type": "code",
   "execution_count": 2,
   "metadata": {
    "collapsed": false
   },
   "outputs": [
    {
     "data": {
      "text/html": [
       "<div>\n",
       "<table border=\"1\" class=\"dataframe\">\n",
       "  <thead>\n",
       "    <tr style=\"text-align: right;\">\n",
       "      <th></th>\n",
       "      <th>#</th>\n",
       "      <th>Entrepreneur</th>\n",
       "      <th>Freelancer</th>\n",
       "      <th>Student</th>\n",
       "      <th>Other</th>\n",
       "      <th>How important is it for you to have access to a silent workspace?</th>\n",
       "      <th>How many hours per week on average would you use such a silent workspace?</th>\n",
       "      <th>Office</th>\n",
       "      <th>Co-working space</th>\n",
       "      <th>Cafe</th>\n",
       "      <th>...</th>\n",
       "      <th>Food</th>\n",
       "      <th>Printer</th>\n",
       "      <th>Scanner</th>\n",
       "      <th>Other.2</th>\n",
       "      <th>How many work partners would you typically work with in a silent workspace?</th>\n",
       "      <th>How much would you pay for an on-demand silent workspace? (£ per hour)</th>\n",
       "      <th>To get a free hour, please leave us your email. Thanks!</th>\n",
       "      <th>Start Date (UTC)</th>\n",
       "      <th>Submit Date (UTC)</th>\n",
       "      <th>Network ID</th>\n",
       "    </tr>\n",
       "  </thead>\n",
       "  <tbody>\n",
       "    <tr>\n",
       "      <th>0</th>\n",
       "      <td>777c36d048a1bf4c977f018cb62a7f38</td>\n",
       "      <td>NaN</td>\n",
       "      <td>NaN</td>\n",
       "      <td>NaN</td>\n",
       "      <td>NaN</td>\n",
       "      <td>NaN</td>\n",
       "      <td>NaN</td>\n",
       "      <td>NaN</td>\n",
       "      <td>NaN</td>\n",
       "      <td>NaN</td>\n",
       "      <td>...</td>\n",
       "      <td>NaN</td>\n",
       "      <td>NaN</td>\n",
       "      <td>NaN</td>\n",
       "      <td>NaN</td>\n",
       "      <td>One partner</td>\n",
       "      <td>NaN</td>\n",
       "      <td>NaN</td>\n",
       "      <td>2016-05-16 14:05:52</td>\n",
       "      <td>2016-05-16 14:06:08</td>\n",
       "      <td>7078d87672</td>\n",
       "    </tr>\n",
       "    <tr>\n",
       "      <th>1</th>\n",
       "      <td>74450846f5258f07f3c695395803c574</td>\n",
       "      <td>NaN</td>\n",
       "      <td>NaN</td>\n",
       "      <td>NaN</td>\n",
       "      <td>I work in startup</td>\n",
       "      <td>Fairly important</td>\n",
       "      <td>20.0</td>\n",
       "      <td>NaN</td>\n",
       "      <td>Co-working space</td>\n",
       "      <td>NaN</td>\n",
       "      <td>...</td>\n",
       "      <td>Food</td>\n",
       "      <td>Printer</td>\n",
       "      <td>Scanner</td>\n",
       "      <td>NaN</td>\n",
       "      <td>Multiple partners</td>\n",
       "      <td>1.0</td>\n",
       "      <td>NaN</td>\n",
       "      <td>2016-05-16 15:03:15</td>\n",
       "      <td>2016-05-16 15:05:19</td>\n",
       "      <td>6ee7fa1474</td>\n",
       "    </tr>\n",
       "    <tr>\n",
       "      <th>2</th>\n",
       "      <td>50d5f536bc2b40bfccd3f0759ce7f696</td>\n",
       "      <td>Entrepreneur</td>\n",
       "      <td>NaN</td>\n",
       "      <td>NaN</td>\n",
       "      <td>NaN</td>\n",
       "      <td>Very important</td>\n",
       "      <td>30.0</td>\n",
       "      <td>Office</td>\n",
       "      <td>NaN</td>\n",
       "      <td>NaN</td>\n",
       "      <td>...</td>\n",
       "      <td>NaN</td>\n",
       "      <td>NaN</td>\n",
       "      <td>NaN</td>\n",
       "      <td>NaN</td>\n",
       "      <td>One partner</td>\n",
       "      <td>5.0</td>\n",
       "      <td>NaN</td>\n",
       "      <td>2016-05-16 15:13:15</td>\n",
       "      <td>2016-05-16 15:14:36</td>\n",
       "      <td>7078d87672</td>\n",
       "    </tr>\n",
       "    <tr>\n",
       "      <th>3</th>\n",
       "      <td>728596cdf5bde854cb962736ecf97ca0</td>\n",
       "      <td>Entrepreneur</td>\n",
       "      <td>NaN</td>\n",
       "      <td>NaN</td>\n",
       "      <td>NaN</td>\n",
       "      <td>Not that important</td>\n",
       "      <td>0.0</td>\n",
       "      <td>NaN</td>\n",
       "      <td>Co-working space</td>\n",
       "      <td>Cafe</td>\n",
       "      <td>...</td>\n",
       "      <td>NaN</td>\n",
       "      <td>NaN</td>\n",
       "      <td>NaN</td>\n",
       "      <td>NaN</td>\n",
       "      <td>One partner</td>\n",
       "      <td>0.0</td>\n",
       "      <td>NaN</td>\n",
       "      <td>2016-05-16 15:31:41</td>\n",
       "      <td>2016-05-16 15:34:04</td>\n",
       "      <td>7078d87672</td>\n",
       "    </tr>\n",
       "    <tr>\n",
       "      <th>4</th>\n",
       "      <td>b6f65298123dc1c1312a8d57661ff792</td>\n",
       "      <td>Entrepreneur</td>\n",
       "      <td>NaN</td>\n",
       "      <td>Student</td>\n",
       "      <td>NaN</td>\n",
       "      <td>Fairly important</td>\n",
       "      <td>10.0</td>\n",
       "      <td>NaN</td>\n",
       "      <td>NaN</td>\n",
       "      <td>NaN</td>\n",
       "      <td>...</td>\n",
       "      <td>NaN</td>\n",
       "      <td>Printer</td>\n",
       "      <td>NaN</td>\n",
       "      <td>NaN</td>\n",
       "      <td>One partner</td>\n",
       "      <td>5.0</td>\n",
       "      <td>NaN</td>\n",
       "      <td>2016-05-16 15:50:37</td>\n",
       "      <td>2016-05-16 15:52:07</td>\n",
       "      <td>2267b9d263</td>\n",
       "    </tr>\n",
       "  </tbody>\n",
       "</table>\n",
       "<p>5 rows × 28 columns</p>\n",
       "</div>"
      ],
      "text/plain": [
       "                                  #  Entrepreneur Freelancer  Student  \\\n",
       "0  777c36d048a1bf4c977f018cb62a7f38           NaN        NaN      NaN   \n",
       "1  74450846f5258f07f3c695395803c574           NaN        NaN      NaN   \n",
       "2  50d5f536bc2b40bfccd3f0759ce7f696  Entrepreneur        NaN      NaN   \n",
       "3  728596cdf5bde854cb962736ecf97ca0  Entrepreneur        NaN      NaN   \n",
       "4  b6f65298123dc1c1312a8d57661ff792  Entrepreneur        NaN  Student   \n",
       "\n",
       "                Other  \\\n",
       "0                 NaN   \n",
       "1  I work in startup    \n",
       "2                 NaN   \n",
       "3                 NaN   \n",
       "4                 NaN   \n",
       "\n",
       "  How important is it for you to have access to a silent workspace?  \\\n",
       "0                                                NaN                  \n",
       "1                                   Fairly important                  \n",
       "2                                     Very important                  \n",
       "3                                 Not that important                  \n",
       "4                                   Fairly important                  \n",
       "\n",
       "   How many hours per week on average would you use such a silent workspace?  \\\n",
       "0                                                NaN                           \n",
       "1                                               20.0                           \n",
       "2                                               30.0                           \n",
       "3                                                0.0                           \n",
       "4                                               10.0                           \n",
       "\n",
       "   Office  Co-working space  Cafe     ...      Food  Printer  Scanner Other.2  \\\n",
       "0     NaN               NaN   NaN     ...       NaN      NaN      NaN     NaN   \n",
       "1     NaN  Co-working space   NaN     ...      Food  Printer  Scanner     NaN   \n",
       "2  Office               NaN   NaN     ...       NaN      NaN      NaN     NaN   \n",
       "3     NaN  Co-working space  Cafe     ...       NaN      NaN      NaN     NaN   \n",
       "4     NaN               NaN   NaN     ...       NaN  Printer      NaN     NaN   \n",
       "\n",
       "  How many work partners would you typically work with in a silent workspace?  \\\n",
       "0                                        One partner                            \n",
       "1                                  Multiple partners                            \n",
       "2                                        One partner                            \n",
       "3                                        One partner                            \n",
       "4                                        One partner                            \n",
       "\n",
       "  How much would you pay for an on-demand silent workspace? (£ per hour)  \\\n",
       "0                                                NaN                       \n",
       "1                                                1.0                       \n",
       "2                                                5.0                       \n",
       "3                                                0.0                       \n",
       "4                                                5.0                       \n",
       "\n",
       "  To get a free hour, please leave us your email. Thanks!  \\\n",
       "0                                                NaN        \n",
       "1                                                NaN        \n",
       "2                                                NaN        \n",
       "3                                                NaN        \n",
       "4                                                NaN        \n",
       "\n",
       "      Start Date (UTC)    Submit Date (UTC)  Network ID  \n",
       "0  2016-05-16 14:05:52  2016-05-16 14:06:08  7078d87672  \n",
       "1  2016-05-16 15:03:15  2016-05-16 15:05:19  6ee7fa1474  \n",
       "2  2016-05-16 15:13:15  2016-05-16 15:14:36  7078d87672  \n",
       "3  2016-05-16 15:31:41  2016-05-16 15:34:04  7078d87672  \n",
       "4  2016-05-16 15:50:37  2016-05-16 15:52:07  2267b9d263  \n",
       "\n",
       "[5 rows x 28 columns]"
      ]
     },
     "execution_count": 2,
     "metadata": {},
     "output_type": "execute_result"
    }
   ],
   "source": [
    "data.head()"
   ]
  },
  {
   "cell_type": "code",
   "execution_count": 3,
   "metadata": {
    "collapsed": false
   },
   "outputs": [
    {
     "name": "stdout",
     "output_type": "stream",
     "text": [
      "<class 'pandas.core.frame.DataFrame'>\n",
      "RangeIndex: 42 entries, 0 to 41\n",
      "Data columns (total 28 columns):\n",
      "#                                                                              42 non-null object\n",
      "Entrepreneur                                                                   27 non-null object\n",
      "Freelancer                                                                     10 non-null object\n",
      "Student                                                                        5 non-null object\n",
      "Other                                                                          7 non-null object\n",
      "How important is it for you to have access to a silent workspace?              41 non-null object\n",
      "How many hours per week on average would you use such a silent workspace?      41 non-null float64\n",
      "Office                                                                         24 non-null object\n",
      "Co-working space                                                               12 non-null object\n",
      "Cafe                                                                           8 non-null object\n",
      "Library                                                                        5 non-null object\n",
      "Home                                                                           17 non-null object\n",
      "Other.1                                                                        4 non-null object\n",
      "Wi-Fi                                                                          40 non-null object\n",
      "Power supply                                                                   39 non-null object\n",
      "Toilet                                                                         40 non-null object\n",
      "Water dispenser                                                                21 non-null object\n",
      "Drinks                                                                         13 non-null object\n",
      "Food                                                                           11 non-null object\n",
      "Printer                                                                        17 non-null object\n",
      "Scanner                                                                        10 non-null object\n",
      "Other.2                                                                        3 non-null object\n",
      "How many work partners would you typically work with in a silent workspace?    42 non-null object\n",
      "How much would you pay for an on-demand silent workspace? (£ per hour)         38 non-null float64\n",
      "To get a free hour, please leave us your email. Thanks!                        14 non-null object\n",
      "Start Date (UTC)                                                               42 non-null object\n",
      "Submit Date (UTC)                                                              42 non-null object\n",
      "Network ID                                                                     42 non-null object\n",
      "dtypes: float64(2), object(26)\n",
      "memory usage: 9.3+ KB\n"
     ]
    }
   ],
   "source": [
    "data.info()"
   ]
  },
  {
   "cell_type": "markdown",
   "metadata": {},
   "source": [
    "### Display column index"
   ]
  },
  {
   "cell_type": "code",
   "execution_count": 4,
   "metadata": {
    "collapsed": false
   },
   "outputs": [
    {
     "name": "stdout",
     "output_type": "stream",
     "text": [
      "0 #\n",
      "1 Entrepreneur\n",
      "2 Freelancer\n",
      "3 Student\n",
      "4 Other\n",
      "5 How important is it for you to have access to a silent workspace?\n",
      "6 How many hours per week on average would you use such a silent workspace?\n",
      "7 Office\n",
      "8 Co-working space\n",
      "9 Cafe\n",
      "10 Library\n",
      "11 Home\n",
      "12 Other.1\n",
      "13 Wi-Fi\n",
      "14 Power supply\n",
      "15 Toilet\n",
      "16 Water dispenser\n",
      "17 Drinks\n",
      "18 Food\n",
      "19 Printer\n",
      "20 Scanner\n",
      "21 Other.2\n",
      "22 How many work partners would you typically work with in a silent workspace?\n",
      "23 How much would you pay for an on-demand silent workspace? (£ per hour)\n",
      "24 To get a free hour, please leave us your email. Thanks!\n",
      "25 Start Date (UTC)\n",
      "26 Submit Date (UTC)\n",
      "27 Network ID\n"
     ]
    }
   ],
   "source": [
    "for index, i in enumerate(data.columns):\n",
    "    print (index, i)"
   ]
  },
  {
   "cell_type": "markdown",
   "metadata": {},
   "source": [
    "### Structured column index\n",
    "\n",
    "1. User segment 1 - 4<br>\n",
    "2. How important is a quiet workspace? 5<br>\n",
    "3. Occupancy rate per week 6<br>\n",
    "4. Where do users work now? 7 - 12<br>\n",
    "5. What facilities are essential? 13 - 21<br>\n",
    "6. Number of work partner 22<br>\n",
    "7. Hourly rate users are willing to pay for 23"
   ]
  },
  {
   "cell_type": "markdown",
   "metadata": {},
   "source": [
    "### 1. User segment"
   ]
  },
  {
   "cell_type": "code",
   "execution_count": 5,
   "metadata": {
    "collapsed": false
   },
   "outputs": [
    {
     "name": "stdout",
     "output_type": "stream",
     "text": [
      "Entrepreneur    27\n",
      "Name: Entrepreneur, dtype: int64 \n",
      "\n",
      "Freelancer    10\n",
      "Name: Freelancer, dtype: int64 \n",
      "\n",
      "Student    5\n",
      "Name: Student, dtype: int64 \n",
      "\n",
      "Full time worker       1\n",
      "Company Secretary      1\n",
      "Employee               1\n",
      "Director               1\n",
      "Corporate employee     1\n",
      "I work in startup      1\n",
      "employment             1\n",
      "Name: Other, dtype: int64 \n",
      "\n"
     ]
    }
   ],
   "source": [
    "for index, i in enumerate(data.columns):\n",
    "    if (index >= 1) and (index <= 4):\n",
    "        print (data[i].value_counts(), \"\\n\")"
   ]
  },
  {
   "cell_type": "code",
   "execution_count": 6,
   "metadata": {
    "collapsed": false
   },
   "outputs": [
    {
     "data": {
      "image/png": "[encoded data removed]",
      "text/plain": [
       "<matplotlib.figure.Figure at 0x1152c9ef0>"
      ]
     },
     "metadata": {},
     "output_type": "display_data"
    }
   ],
   "source": [
    "feature = [\"Entrepreneur\", \"Freelancer\", \"Student\", \"Other\"]\n",
    "count = [27, 10, 5, 7]\n",
    "\n",
    "user = pd.Series(count, feature)\n",
    "user.plot.barh(figsize=(8, 4), color=\"c\")\n",
    "\n",
    "plt.xlabel(\"Count\")\n",
    "plt.ylabel(\"Segment\")\n",
    "plt.title(\"User segment\")\n",
    "plt.show()"
   ]
  },
  {
   "cell_type": "markdown",
   "metadata": {},
   "source": [
    "Notes:\n",
    "1. User segments are not mutually exclusive.\n",
    "2. \"Other\" includes startup and corporate employees."
   ]
  },
  {
   "cell_type": "markdown",
   "metadata": {},
   "source": [
    "### 2. How important is a quiet workspace?"
   ]
  },
  {
   "cell_type": "code",
   "execution_count": 7,
   "metadata": {
    "collapsed": false
   },
   "outputs": [
    {
     "name": "stdout",
     "output_type": "stream",
     "text": [
      "Fairly important         19\n",
      "Very important           10\n",
      "Not that important        8\n",
      "Would be a lifesaver!     3\n",
      "Not at all                1\n",
      "Name: How important is it for you to have access to a silent workspace?, dtype: int64 \n",
      "\n"
     ]
    }
   ],
   "source": [
    "for index, i in enumerate(data.columns):\n",
    "    if index == 5:\n",
    "        print (data[i].value_counts(), \"\\n\")"
   ]
  },
  {
   "cell_type": "code",
   "execution_count": 8,
   "metadata": {
    "collapsed": false
   },
   "outputs": [
    {
     "data": {
      "image/png": "[encoded data removed]",
      "text/plain": [
       "<matplotlib.figure.Figure at 0x117835cf8>"
      ]
     },
     "metadata": {},
     "output_type": "display_data"
    }
   ],
   "source": [
    "feature = [\"Not at all\", \"Not that important\", \"Fairly important\", \"Very important\", \"Would be a lifesaver!\"]\n",
    "count = [1, 8, 19, 10, 3]\n",
    "\n",
    "importance = pd.Series(count, feature)\n",
    "importance.plot.barh(figsize=(8, 6), color=\"c\")\n",
    "\n",
    "plt.xlabel(\"Count\")\n",
    "plt.ylabel(\"Importance\")\n",
    "plt.title(\"How important is a quiet workspace?\")\n",
    "plt.show()"
   ]
  },
  {
   "cell_type": "markdown",
   "metadata": {},
   "source": [
    "### 3. Occupancy rate per week"
   ]
  },
  {
   "cell_type": "code",
   "execution_count": 9,
   "metadata": {
    "collapsed": false
   },
   "outputs": [
    {
     "name": "stdout",
     "output_type": "stream",
     "text": [
      "10.0     7\n",
      "8.0      5\n",
      "5.0      5\n",
      "20.0     4\n",
      "0.0      4\n",
      "40.0     3\n",
      "4.0      3\n",
      "9.0      2\n",
      "2.0      2\n",
      "168.0    1\n",
      "30.0     1\n",
      "72.0     1\n",
      "70.0     1\n",
      "3.0      1\n",
      "1.0      1\n",
      "Name: How many hours per week on average would you use such a silent workspace?, dtype: int64 \n",
      "\n"
     ]
    }
   ],
   "source": [
    "for index, i in enumerate(data.columns):\n",
    "    if index == 6:\n",
    "        print (data[i].value_counts(), \"\\n\")"
   ]
  },
  {
   "cell_type": "code",
   "execution_count": 10,
   "metadata": {
    "collapsed": false
   },
   "outputs": [
    {
     "data": {
      "image/png": "[encoded data removed]",
      "text/plain": [
       "<matplotlib.figure.Figure at 0x117fa34e0>"
      ]
     },
     "metadata": {},
     "output_type": "display_data"
    }
   ],
   "source": [
    "feature = [0.0, 1.0, 2.0, 3.0, 4.0, 5.0, 8.0, 9.0, 10.0, 20.0, 30.0, 40.0, 70.0, 72.0, 168.0]\n",
    "count = [4, 1, 2, 1, 3, 5, 5, 2, 7, 4, 1, 3, 1, 1, 1]\n",
    "\n",
    "plt.scatter(feature, count, color=\"c\")\n",
    "\n",
    "plt.xlabel(\"Hour per week\")\n",
    "plt.ylabel(\"Count\")\n",
    "plt.title(\"Occupancy rate per week\")\n",
    "plt.xlim(-25)\n",
    "plt.show()"
   ]
  },
  {
   "cell_type": "markdown",
   "metadata": {},
   "source": [
    "### 4. Where do users work now?"
   ]
  },
  {
   "cell_type": "code",
   "execution_count": 11,
   "metadata": {
    "collapsed": false
   },
   "outputs": [
    {
     "name": "stdout",
     "output_type": "stream",
     "text": [
      "Office    24\n",
      "Name: Office, dtype: int64 \n",
      "\n",
      "Co-working space    12\n",
      "Name: Co-working space, dtype: int64 \n",
      "\n",
      "Cafe    8\n",
      "Name: Cafe, dtype: int64 \n",
      "\n",
      "Library    5\n",
      "Name: Library, dtype: int64 \n",
      "\n",
      "Home    17\n",
      "Name: Home, dtype: int64 \n",
      "\n",
      "site                                                   1\n",
      "Creative Space                                         1\n",
      "Where is very good Free Wi-Fi, clean and tidy space    1\n",
      "Labs or offices                                        1\n",
      "Name: Other.1, dtype: int64 \n",
      "\n"
     ]
    }
   ],
   "source": [
    "for index, i in enumerate(data.columns):\n",
    "    if (index >= 7) and (index <= 12):\n",
    "        print (data[i].value_counts(), \"\\n\")"
   ]
  },
  {
   "cell_type": "code",
   "execution_count": 12,
   "metadata": {
    "collapsed": false
   },
   "outputs": [
    {
     "data": {
      "image/png": "[encoded data removed]",
      "text/plain": [
       "<matplotlib.figure.Figure at 0x117fc89b0>"
      ]
     },
     "metadata": {},
     "output_type": "display_data"
    }
   ],
   "source": [
    "feature = [\"Office\", \"Co-working space\", \"Cafe\", \"Library\", \"Home\", \"Other\"]\n",
    "count = [24, 12, 8, 5, 17, 4]\n",
    "\n",
    "workspaces = pd.Series(count, feature)\n",
    "workspaces.plot.barh(figsize=(8, 6), color=\"c\")\n",
    "\n",
    "plt.xlabel(\"Count\")\n",
    "plt.ylabel(\"Location\")\n",
    "plt.title(\"Where do users work now?\")\n",
    "plt.show()"
   ]
  },
  {
   "cell_type": "markdown",
   "metadata": {},
   "source": [
    "Notes:\n",
    "1. Locations are not mutually exclusive."
   ]
  },
  {
   "cell_type": "markdown",
   "metadata": {},
   "source": [
    "### 5. What facilities are essential?"
   ]
  },
  {
   "cell_type": "code",
   "execution_count": 13,
   "metadata": {
    "collapsed": false
   },
   "outputs": [
    {
     "name": "stdout",
     "output_type": "stream",
     "text": [
      "Wi-Fi    40\n",
      "Name: Wi-Fi, dtype: int64 \n",
      "\n",
      "Power supply    39\n",
      "Name: Power supply, dtype: int64 \n",
      "\n",
      "Toilet    40\n",
      "Name: Toilet, dtype: int64 \n",
      "\n",
      "Water dispenser    21\n",
      "Name: Water dispenser, dtype: int64 \n",
      "\n",
      "Drinks    13\n",
      "Name: Drinks, dtype: int64 \n",
      "\n",
      "Food    11\n",
      "Name: Food, dtype: int64 \n",
      "\n",
      "Printer    17\n",
      "Name: Printer, dtype: int64 \n",
      "\n",
      "Scanner    10\n",
      "Name: Scanner, dtype: int64 \n",
      "\n",
      "Good lights    1\n",
      "Chair          1\n",
      "Light          1\n",
      "Name: Other.2, dtype: int64 \n",
      "\n"
     ]
    }
   ],
   "source": [
    "for index, i in enumerate(data.columns):\n",
    "    if (index >= 13) and (index <= 21):\n",
    "        print (data[i].value_counts(), \"\\n\")"
   ]
  },
  {
   "cell_type": "code",
   "execution_count": 14,
   "metadata": {
    "collapsed": false
   },
   "outputs": [
    {
     "data": {
      "image/png": "[encoded data removed]",
      "text/plain": [
       "<matplotlib.figure.Figure at 0x11822ae48>"
      ]
     },
     "metadata": {},
     "output_type": "display_data"
    }
   ],
   "source": [
    "feature = [\"Wi-Fi\", \"Power supply\", \"Toilet\", \"Water dispenser\", \"Drinks\", \"Food\", \"Printer\", \"Scanner\", \"Other\"]\n",
    "count = [40, 39, 40, 21, 13, 11, 17, 10, 3]\n",
    "\n",
    "facilities = pd.Series(count, feature)\n",
    "facilities.plot.barh(figsize=(10, 8), color=\"c\")\n",
    "\n",
    "plt.xlabel(\"Count\")\n",
    "plt.ylabel(\"Facilities\")\n",
    "plt.title(\"What facilities are essential?\")\n",
    "plt.show()"
   ]
  },
  {
   "cell_type": "markdown",
   "metadata": {},
   "source": [
    "Notes:\n",
    "1. Facilities are not mutually exclusive.\n",
    "2. Other includes lighting and chair."
   ]
  },
  {
   "cell_type": "markdown",
   "metadata": {},
   "source": [
    "### 6. Number of work partner"
   ]
  },
  {
   "cell_type": "code",
   "execution_count": 15,
   "metadata": {
    "collapsed": false
   },
   "outputs": [
    {
     "name": "stdout",
     "output_type": "stream",
     "text": [
      "Alone                19\n",
      "One partner          15\n",
      "Multiple partners     8\n",
      "Name: How many work partners would you typically work with in a silent workspace?, dtype: int64 \n",
      "\n"
     ]
    }
   ],
   "source": [
    "for index, i in enumerate(data.columns):\n",
    "    if index == 22:\n",
    "        print (data[i].value_counts(), \"\\n\")"
   ]
  },
  {
   "cell_type": "code",
   "execution_count": 16,
   "metadata": {
    "collapsed": false
   },
   "outputs": [
    {
     "data": {
      "image/png": "[encoded data removed]",
      "text/plain": [
       "<matplotlib.figure.Figure at 0x1183f6b00>"
      ]
     },
     "metadata": {},
     "output_type": "display_data"
    }
   ],
   "source": [
    "feature = [\"Alone\", \"One partner\", \"Multiple partners\"]\n",
    "count = [19, 15, 8]\n",
    "\n",
    "partner = pd.Series(count, feature)\n",
    "partner.plot.barh(figsize=(6, 3), color=\"c\")\n",
    "\n",
    "plt.xlabel(\"Count\")\n",
    "plt.ylabel(\"Type\")\n",
    "plt.title(\"Number of work partner\")\n",
    "plt.show()"
   ]
  },
  {
   "cell_type": "markdown",
   "metadata": {},
   "source": [
    "### 7. Hourly rate users are willing to pay for"
   ]
  },
  {
   "cell_type": "code",
   "execution_count": 17,
   "metadata": {
    "collapsed": false
   },
   "outputs": [
    {
     "name": "stdout",
     "output_type": "stream",
     "text": [
      "1.0     10\n",
      "5.0      7\n",
      "0.0      7\n",
      "2.0      5\n",
      "10.0     4\n",
      "15.0     2\n",
      "8.0      2\n",
      "3.0      1\n",
      "Name: How much would you pay for an on-demand silent workspace? (£ per hour), dtype: int64 \n",
      "\n"
     ]
    }
   ],
   "source": [
    "for index, i in enumerate(data.columns):\n",
    "    if index == 23:\n",
    "        print (data[i].value_counts(), \"\\n\")"
   ]
  },
  {
   "cell_type": "code",
   "execution_count": 18,
   "metadata": {
    "collapsed": false
   },
   "outputs": [
    {
     "data": {
      "image/png": "[encoded data removed]",
      "text/plain": [
       "<matplotlib.figure.Figure at 0x11860c828>"
      ]
     },
     "metadata": {},
     "output_type": "display_data"
    }
   ],
   "source": [
    "feature = [0, 1, 2, 3, 5, 8, 10, 15]\n",
    "count = [7, 10, 5, 1, 7, 2, 4, 2]\n",
    "\n",
    "plt.scatter(feature, count, color=\"c\")\n",
    "\n",
    "plt.xlabel(\"Hourly rate (£)\")\n",
    "plt.ylabel(\"Count\")\n",
    "plt.title(\"Hourly rate users are willing to pay for\")\n",
    "plt.xlim(-1)\n",
    "plt.show()"
   ]
  }
 ],
 "metadata": {
  "anaconda-cloud": {},
  "kernelspec": {
   "display_name": "Python [Root]",
   "language": "python",
   "name": "Python [Root]"
  },
  "language_info": {
   "codemirror_mode": {
    "name": "ipython",
    "version": 3
   },
   "file_extension": ".py",
   "mimetype": "text/x-python",
   "name": "python",
   "nbconvert_exporter": "python",
   "pygments_lexer": "ipython3",
   "version": "3.5.2"
  }
 },
 "nbformat": 4,
 "nbformat_minor": 0
}
